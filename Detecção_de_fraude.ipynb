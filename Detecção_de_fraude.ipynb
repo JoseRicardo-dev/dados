{
  "nbformat": 4,
  "nbformat_minor": 0,
  "metadata": {
    "colab": {
      "private_outputs": true,
      "provenance": [],
      "mount_file_id": "1vLAJlHOYB3wFF18-0TY8hDrmxos6vMOM",
      "authorship_tag": "ABX9TyMhosUuCzgAKt81eRX2j29t",
      "include_colab_link": true
    },
    "kernelspec": {
      "name": "python3",
      "display_name": "Python 3"
    },
    "language_info": {
      "name": "python"
    }
  },
  "cells": [
    {
      "cell_type": "markdown",
      "metadata": {
        "id": "view-in-github",
        "colab_type": "text"
      },
      "source": [
        "<a href=\"https://colab.research.google.com/github/JoseRicardo-dev/dados/blob/main/Detec%C3%A7%C3%A3o_de_fraude.ipynb\" target=\"_parent\"><img src=\"https://colab.research.google.com/assets/colab-badge.svg\" alt=\"Open In Colab\"/></a>"
      ]
    },
    {
      "cell_type": "code",
      "execution_count": null,
      "metadata": {
        "id": "UE3XSUuhiQ6S"
      },
      "outputs": [],
      "source": [
        "# Importando as bibliotecas ( Preparando o ambiente)\n",
        "import pandas as pd\n",
        "import numpy as np\n",
        "import matplotlib.pyplot as plt\n",
        "import seaborn as sns"
      ]
    },
    {
      "cell_type": "code",
      "source": [
        "#Carregando os dados\n",
        "df = pd.read_csv('/content/creditcard.csv')"
      ],
      "metadata": {
        "id": "VOUfx-Ixi55t"
      },
      "execution_count": null,
      "outputs": []
    },
    {
      "cell_type": "code",
      "source": [
        "#Visualizando os dados e apresentando as 5 primeiras linhas\n",
        "display(df)\n",
        "df.head()"
      ],
      "metadata": {
        "id": "MxuD07jJi6K1"
      },
      "execution_count": null,
      "outputs": []
    },
    {
      "cell_type": "code",
      "source": [
        "df.value_counts()"
      ],
      "metadata": {
        "id": "XrK2Fst9aq75"
      },
      "execution_count": null,
      "outputs": []
    },
    {
      "cell_type": "code",
      "source": [
        "df.info()"
      ],
      "metadata": {
        "id": "qRVYinJ_kTl6"
      },
      "execution_count": null,
      "outputs": []
    },
    {
      "cell_type": "code",
      "source": [
        "#Lidando com desbalanceamento ( fraudes são casos raros  e isso gera desequilibrio nos dados)\n",
        "sns.countplot(x='Class', data=df)\n",
        "plt.title('Distribuição das Classes (0: normal, 1: fraude)')\n"
      ],
      "metadata": {
        "id": "bvKPA9Q_bXf-"
      },
      "execution_count": null,
      "outputs": []
    },
    {
      "cell_type": "code",
      "source": [
        "df.describe()"
      ],
      "metadata": {
        "id": "3aVgQ6pNkT1f"
      },
      "execution_count": null,
      "outputs": []
    },
    {
      "cell_type": "code",
      "metadata": {
        "id": "e1901b87"
      },
      "source": [
        "# Verificando a quantidade de dados faltantes por coluna\n",
        "missing_values = df.isnull().sum()\n",
        "print(\"Quantidade de dados faltantes por coluna:\")\n",
        "print(missing_values)"
      ],
      "execution_count": null,
      "outputs": []
    },
    {
      "source": [
        "df_cleaned = df.dropna(subset=['Class'])"
      ],
      "cell_type": "code",
      "metadata": {
        "id": "ghd_fjvfm5yK"
      },
      "execution_count": null,
      "outputs": []
    },
    {
      "cell_type": "code",
      "source": [
        "from sklearn.model_selection import train_test_split\n",
        "\n",
        "# Remove rows with missing values in the 'Class' column\n",
        "df_cleaned = df.dropna(subset=['Class'])\n",
        "\n",
        "x = df_cleaned.drop('Class', axis=1) # Todos os dados menos a coluna alvo\n",
        "y = df_cleaned['Class']              # A coluna que queremos prever (alvo)\n",
        "\n",
        "x_train, x_test, y_train, y_test = train_test_split(x, y, test_size=0.2, random_state=42, stratify=y)"
      ],
      "metadata": {
        "id": "zgzi4xfRc7U8"
      },
      "execution_count": null,
      "outputs": []
    },
    {
      "cell_type": "code",
      "source": [
        "x.describe()"
      ],
      "metadata": {
        "id": "JmYBCSIBnK3h"
      },
      "execution_count": null,
      "outputs": []
    },
    {
      "cell_type": "code",
      "source": [
        "y.describe()\n"
      ],
      "metadata": {
        "id": "3UFCM4BsnTZM"
      },
      "execution_count": null,
      "outputs": []
    },
    {
      "cell_type": "code",
      "source": [
        "#Balanceamento dos dados com Smote\n",
        "from imblearn.over_sampling import SMOTE\n",
        "\n",
        "smote = SMOTE(random_state=42)\n",
        "x_train_bal, y_train_bal = smote.fit_resample(x_train, y_train)"
      ],
      "metadata": {
        "id": "mpFjNS_5ne8u"
      },
      "execution_count": null,
      "outputs": []
    },
    {
      "cell_type": "code",
      "source": [
        "#Treinando um modelo (Randon Forest)\n",
        "from sklearn.ensemble import RandomForestClassifier\n",
        "from sklearn.metrics import classification_report, confusion_matrix\n",
        "\n",
        "model = RandomForestClassifier(n_estimators=100, random_state=42)\n",
        "model.fit(x_train_bal, y_train_bal)\n",
        "\n",
        "y_pred = model.predict(x_test)"
      ],
      "metadata": {
        "id": "XTTtSf6Foj-Z"
      },
      "execution_count": null,
      "outputs": []
    },
    {
      "cell_type": "code",
      "source": [
        "#Avaliando o modelo\n",
        "\n",
        "print(classification_report(y_test, y_pred))\n",
        "print(confusion_matrix(y_test, y_pred))"
      ],
      "metadata": {
        "id": "COSSwiBWp5Ro"
      },
      "execution_count": null,
      "outputs": []
    },
    {
      "cell_type": "code",
      "source": [
        "#Conclusões:\n",
        "#Alta Acurácia Geral: A acurácia geral do modelo é de 1.00 (ou 100%), o que parece excelente à primeira vista. No entanto, em conjuntos de dados desbalanceados como este, a acurácia pode ser enganosa, pois o modelo pode simplesmente prever a classe majoritária (transações normais) na maioria das vezes e ainda assim ter alta acurácia.\n",
        "#Desempenho para Transações Normais (Classe 0): O modelo tem um desempenho perfeito para a classe 0 (transações normais), com precisão, recall e f1-score de 1.00. A matriz de confusão mostra que todas as 1985 transações normais no conjunto de teste foram classificadas corretamente.\n",
        "#Desempenho para Fraudes (Classe 1): Para a classe 1 (fraudes), que é a classe minoritária e de maior interesse, o desempenho é o seguinte:\n",
        "#Precisão (Precision): 1.00. Isso significa que, de todas as vezes que o modelo previu uma fraude, 100% delas eram realmente fraudes. Não houve falsos positivos (transações normais classificadas como fraude).\n",
        "#Recall: 0.88. Isso significa que o modelo conseguiu detectar 88% das fraudes reais presentes no conjunto de teste. Houve 1 falso negativo (uma fraude real que foi classificada como normal).\n",
        "#F1-score: 0.93. O F1-score é a média harmônica da precisão e do recall, e é uma métrica útil para dados desbalanceados. Um F1-score de 0.93 para a classe minoritária é muito bom.\n",
        "#Matriz de Confusão:\n",
        "#[[1985 0]\n",
        "#[1 7]] Esta matriz confirma o que as métricas nos dizem:\n",
        "#1985 transações normais foram corretamente previstas como normais (Verdadeiros Negativos).\n",
        "#0 transações normais foram incorretamente previstas como fraude (Falsos Positivos).\n",
        "#1 transação de fraude foi incorretamente prevista como normal (Falso Negativo).\n",
        "#7 transações de fraude foram corretamente previstas como fraude (Verdadeiros Positivos).\n",
        "#Conclusão Geral:\n",
        "\n",
        "#O modelo Random Forest, após o balanceamento dos dados de treino com SMOTE, apresentou um excelente desempenho na detecção de fraudes neste conjunto de dados de teste limitado. Ele conseguiu identificar a maioria das fraudes sem gerar falsos positivos. O único ponto de melhoria seria tentar reduzir o número de falsos negativos, mas o desempenho geral já é muito promissor para este subconjunto dos dados."
      ],
      "metadata": {
        "id": "BcRRcjG9rRy8"
      },
      "execution_count": null,
      "outputs": []
    }
  ]
}